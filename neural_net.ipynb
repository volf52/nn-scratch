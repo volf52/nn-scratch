{
 "cells": [
  {
   "cell_type": "code",
   "execution_count": 1,
   "metadata": {},
   "outputs": [],
   "source": [
    "import numpy as np"
   ]
  },
  {
   "cell_type": "markdown",
   "metadata": {},
   "source": [
    "## Calculating by \"hand\" to make the next section easier to understand "
   ]
  },
  {
   "cell_type": "code",
   "execution_count": 2,
   "metadata": {},
   "outputs": [],
   "source": [
    "X = np.array([[0, 0, 1], [1, 1, 1], [1, 0, 1], [0, 1, 1]])  ## x1 AND (x2 OR x3)\n",
    "Y = np.array([[0, 1, 1, 0]]).reshape(-1, 1)\n",
    "\n",
    "n_records, n_features = X.shape\n",
    "n_hidden = 2\n",
    "lr = 0.01"
   ]
  },
  {
   "cell_type": "code",
   "execution_count": 3,
   "metadata": {},
   "outputs": [],
   "source": [
    "model = dict()\n",
    "\n",
    "model['W1'] = np.random.normal(scale= 1 / n_features ** .5, size = (n_features, n_hidden)) ## Weights for inp_layer to hidden_layer\n",
    "model['W2'] = np.random.normal(scale = 1 / n_features ** .5 , size = (n_hidden,1)) ## Weights for hidden_to_output layer\n",
    "model['b1'] = np.zeros(shape=[1, n_hidden], dtype=np.float32)\n",
    "model['b2'] = np.array([0.]).reshape(1,1)"
   ]
  },
  {
   "cell_type": "code",
   "execution_count": 4,
   "metadata": {},
   "outputs": [],
   "source": [
    "def sigmoid(x):\n",
    "    return 1. / (1 + np.exp(-x))\n",
    "\n",
    "def sse(y, y_hat):\n",
    "    return np.mean(np.square(y - y_hat))"
   ]
  },
  {
   "cell_type": "markdown",
   "metadata": {},
   "source": [
    "### Forward Pass"
   ]
  },
  {
   "cell_type": "code",
   "execution_count": 5,
   "metadata": {},
   "outputs": [],
   "source": [
    "def forward(X, model):\n",
    "    W1, W2, b1, b2 = model['W1'], model['W2'], model['b1'], model['b2']\n",
    "    z1 = np.dot(X, W1) + b1 ## hidden layer input\n",
    "    a1 = sigmoid(z1)        ## hidden layer input\n",
    "    z2 = np.dot(a1, W2) + b2 ## output layer input\n",
    "    a2 = sigmoid(z2) ## output layer ... uhm, output\n",
    "    \n",
    "    output = (a2 > .5).astype(np.int)\n",
    "    return a1, a2, output"
   ]
  },
  {
   "cell_type": "code",
   "execution_count": 6,
   "metadata": {},
   "outputs": [],
   "source": [
    "a1, a2, output = forward(X, model)"
   ]
  },
  {
   "cell_type": "code",
   "execution_count": 7,
   "metadata": {},
   "outputs": [
    {
     "name": "stdout",
     "output_type": "stream",
     "text": [
      "0.5\n"
     ]
    }
   ],
   "source": [
    "print(sse(Y, output))"
   ]
  },
  {
   "cell_type": "markdown",
   "metadata": {},
   "source": [
    "### Backprop now"
   ]
  },
  {
   "cell_type": "code",
   "execution_count": 8,
   "metadata": {},
   "outputs": [],
   "source": [
    "def backprop(Y, a1, a2, output, model):\n",
    "    W1, W2, b1, b2 = model['W1'], model['W2'], model['b1'], model['b2']\n",
    "    error = Y - output\n",
    "    out_error_term = error * a2 * (1-a2)\n",
    "    hidden_error = np.dot(out_error_term, W2.T)\n",
    "    hidden_error_term = hidden_error * a1 * (1-a1)\n",
    "    dW2 = 0.01 * np.dot(a1.T, out_error_term)\n",
    "    db2 = np.sum(out_error_term, axis=0, keepdims=True)\n",
    "    dW1 = 0.01 * np.dot(X.T, hidden_error_term)\n",
    "    db1 = np.sum(hidden_error_term, axis=0, keepdims=True)\n",
    "    \n",
    "    return dW1, db1, dW2, db2"
   ]
  },
  {
   "cell_type": "code",
   "execution_count": 9,
   "metadata": {},
   "outputs": [],
   "source": [
    "dW1, db1, dW2, db2 = backprop(Y, a1, a2, output, model)"
   ]
  },
  {
   "cell_type": "code",
   "execution_count": 10,
   "metadata": {},
   "outputs": [
    {
     "name": "stdout",
     "output_type": "stream",
     "text": [
      "[[-1.34969494 -0.55405819]\n",
      " [ 0.39736477 -0.04288576]\n",
      " [ 0.03181855 -0.16498714]]\n",
      "-------------\n",
      "[[0. 0.]]\n",
      "---------------------------\n",
      "[[-0.61562031]\n",
      " [ 0.85916161]]\n",
      "-------------\n",
      "[[0.]]\n",
      "=============\n",
      "[[-1.34969494 -0.55405819]\n",
      " [ 0.39773233 -0.04341696]\n",
      " [ 0.03257014 -0.16605079]]\n",
      "-------------\n",
      "[[ 0.07515879 -0.10636501]]\n",
      "---------------------------\n",
      "[[-0.61840223]\n",
      " [ 0.85689589]]\n",
      "-------------\n",
      "[[-0.49957581]]\n"
     ]
    }
   ],
   "source": [
    "print(model['W1'])\n",
    "print('-' * 13)\n",
    "print(model['b1'])\n",
    "print('-' * 27)\n",
    "print(model['W2'])\n",
    "print('-' * 13)\n",
    "print(model['b2'])\n",
    "print('=' * 13)\n",
    "model['W1'] += dW1\n",
    "model['b1'] += db1\n",
    "model['W2'] += dW2\n",
    "model['b2'] += db2\n",
    "print(model['W1'])\n",
    "print('-' * 13)\n",
    "print(model['b1'])\n",
    "print('-' * 27)\n",
    "print(model['W2'])\n",
    "print('-' * 13)\n",
    "print(model['b2'])"
   ]
  },
  {
   "cell_type": "code",
   "execution_count": 11,
   "metadata": {
    "scrolled": true
   },
   "outputs": [
    {
     "name": "stdout",
     "output_type": "stream",
     "text": [
      "Loss : 0.5\n",
      "Loss : 0.5\n",
      "Loss : 0.25\n",
      "Loss : 0.25\n",
      "Loss : 0.0\n",
      "Loss : 0.0\n",
      "Loss : 0.0\n",
      "Loss : 0.0\n",
      "Loss : 0.0\n",
      "Loss : 0.0\n",
      "Loss : 0.0\n",
      "Loss : 0.0\n",
      "Loss : 0.0\n",
      "Loss : 0.0\n",
      "Loss : 0.0\n",
      "Loss : 0.0\n",
      "Loss : 0.0\n",
      "Loss : 0.0\n",
      "Loss : 0.0\n",
      "Loss : 0.0\n"
     ]
    }
   ],
   "source": [
    "for epoch in range(2000):\n",
    "    a1, a2, output = forward(X, model)\n",
    "    dW1, db1, dW2, db2 = backprop(Y, a1, a2, output, model)\n",
    "    \n",
    "    model['W1'] += dW1\n",
    "    model['b1'] += db1\n",
    "    model['W2'] += dW2\n",
    "    model['b2'] += db2\n",
    "    \n",
    "    if epoch%100 == 0:\n",
    "        print(\"Loss : {}\".format(sse(Y, output)))"
   ]
  },
  {
   "cell_type": "code",
   "execution_count": 12,
   "metadata": {},
   "outputs": [
    {
     "name": "stdout",
     "output_type": "stream",
     "text": [
      "[[-1.46073205 -0.49124061]\n",
      " [ 0.34423218 -0.03633192]\n",
      " [ 0.03659119 -0.18896203]]\n",
      "-------------\n",
      "[[ 0.4772635 -2.397489 ]]\n",
      "---------------------------\n",
      "[[-0.81111695]\n",
      " [ 0.80665429]]\n",
      "-------------\n",
      "[[0.45032151]]\n"
     ]
    }
   ],
   "source": [
    "print(model['W1'])\n",
    "print('-' * 13)\n",
    "print(model['b1'])\n",
    "print('-' * 27)\n",
    "print(model['W2'])\n",
    "print('-' * 13)\n",
    "print(model['b2'])"
   ]
  },
  {
   "cell_type": "code",
   "execution_count": 13,
   "metadata": {},
   "outputs": [],
   "source": [
    "test_point = [1,1,0]\n",
    "y = [1]\n",
    "a1, a2, output = forward(test_point, model)"
   ]
  },
  {
   "cell_type": "code",
   "execution_count": 14,
   "metadata": {},
   "outputs": [
    {
     "name": "stdout",
     "output_type": "stream",
     "text": [
      "[1]\n",
      "[[1]]\n"
     ]
    }
   ],
   "source": [
    "print(y)\n",
    "print(output)"
   ]
  }
 ],
 "metadata": {
  "kernelspec": {
   "display_name": "Python 3(deep)",
   "language": "python",
   "name": "deep"
  },
  "language_info": {
   "codemirror_mode": {
    "name": "ipython",
    "version": 3
   },
   "file_extension": ".py",
   "mimetype": "text/x-python",
   "name": "python",
   "nbconvert_exporter": "python",
   "pygments_lexer": "ipython3",
   "version": "3.6.6"
  }
 },
 "nbformat": 4,
 "nbformat_minor": 2
}
